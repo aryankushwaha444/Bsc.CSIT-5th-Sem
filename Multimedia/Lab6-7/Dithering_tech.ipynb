{
 "cells": [
  {
   "cell_type": "code",
   "execution_count": 1,
   "id": "11844878-6e7a-47e6-a833-b562e30a642f",
   "metadata": {},
   "outputs": [],
   "source": [
    "from PIL import Image"
   ]
  },
  {
   "cell_type": "code",
   "execution_count": 2,
   "id": "ddb1aa0f-5744-409b-a61a-c4f3e84603d9",
   "metadata": {},
   "outputs": [],
   "source": [
    "image_path = 'img.jpg'  # Replace with your image path\n",
    "image = Image.open(image_path)"
   ]
  },
  {
   "cell_type": "code",
   "execution_count": 3,
   "id": "c4871b80-d3ce-4853-bd8f-2564e5173233",
   "metadata": {},
   "outputs": [],
   "source": [
    "gray_image = image.convert('L')"
   ]
  },
  {
   "cell_type": "code",
   "execution_count": 4,
   "id": "4d87988a-fa93-4ef7-8e26-7e496bc79186",
   "metadata": {},
   "outputs": [],
   "source": [
    "dithered_image = gray_image.convert('1')  # '1' for 1-bit pixels, black and white, stored with one pixel per byte\n",
    "\n",
    "# Save the dithered image\n",
    "dithered_image.save('dithered_new.png')"
   ]
  },
  {
   "cell_type": "code",
   "execution_count": null,
   "id": "3d04b91c-16c0-4fb8-8062-ca5ee5809625",
   "metadata": {},
   "outputs": [],
   "source": []
  }
 ],
 "metadata": {
  "kernelspec": {
   "display_name": "Python 3 (ipykernel)",
   "language": "python",
   "name": "python3"
  },
  "language_info": {
   "codemirror_mode": {
    "name": "ipython",
    "version": 3
   },
   "file_extension": ".py",
   "mimetype": "text/x-python",
   "name": "python",
   "nbconvert_exporter": "python",
   "pygments_lexer": "ipython3",
   "version": "3.11.7"
  }
 },
 "nbformat": 4,
 "nbformat_minor": 5
}
