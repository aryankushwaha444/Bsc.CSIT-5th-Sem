{
 "cells": [
  {
   "cell_type": "code",
   "execution_count": 3,
   "id": "c3927eba-194f-452c-9d00-f83f8f3cdd19",
   "metadata": {},
   "outputs": [],
   "source": [
    "from PIL import Image"
   ]
  },
  {
   "cell_type": "code",
   "execution_count": 4,
   "id": "1c2605c0-a427-425d-9f4a-411d6e8b153c",
   "metadata": {},
   "outputs": [
    {
     "ename": "FileNotFoundError",
     "evalue": "[Errno 2] No such file or directory: 'image-snow.jpg'",
     "output_type": "error",
     "traceback": [
      "\u001b[0;31m---------------------------------------------------------------------------\u001b[0m",
      "\u001b[0;31mFileNotFoundError\u001b[0m                         Traceback (most recent call last)",
      "Cell \u001b[0;32mIn[4], line 21\u001b[0m\n\u001b[1;32m     18\u001b[0m output_image_path \u001b[38;5;241m=\u001b[39m \u001b[38;5;124m'\u001b[39m\u001b[38;5;124mcompressed.jpg\u001b[39m\u001b[38;5;124m'\u001b[39m\n\u001b[1;32m     20\u001b[0m \u001b[38;5;66;03m# Compress the image with quality level set to 20\u001b[39;00m\n\u001b[0;32m---> 21\u001b[0m compress_jpg(input_image_path, output_image_path, quality\u001b[38;5;241m=\u001b[39m\u001b[38;5;241m20\u001b[39m)\n",
      "Cell \u001b[0;32mIn[4], line 10\u001b[0m, in \u001b[0;36mcompress_jpg\u001b[0;34m(input_path, output_path, quality)\u001b[0m\n\u001b[1;32m      2\u001b[0m \u001b[38;5;250m\u001b[39m\u001b[38;5;124;03m\"\"\"\u001b[39;00m\n\u001b[1;32m      3\u001b[0m \u001b[38;5;124;03mCompress a JPG image by reducing its quality.\u001b[39;00m\n\u001b[1;32m      4\u001b[0m \n\u001b[0;32m   (...)\u001b[0m\n\u001b[1;32m      7\u001b[0m \u001b[38;5;124;03m:param quality: Quality level for the compressed image (1 to 100).\u001b[39;00m\n\u001b[1;32m      8\u001b[0m \u001b[38;5;124;03m\"\"\"\u001b[39;00m\n\u001b[1;32m      9\u001b[0m \u001b[38;5;66;03m# Open an image file\u001b[39;00m\n\u001b[0;32m---> 10\u001b[0m \u001b[38;5;28;01mwith\u001b[39;00m Image\u001b[38;5;241m.\u001b[39mopen(input_path) \u001b[38;5;28;01mas\u001b[39;00m img:\n\u001b[1;32m     11\u001b[0m     \u001b[38;5;66;03m# Ensure the image is in RGB mode\u001b[39;00m\n\u001b[1;32m     12\u001b[0m     img \u001b[38;5;241m=\u001b[39m img\u001b[38;5;241m.\u001b[39mconvert(\u001b[38;5;124m\"\u001b[39m\u001b[38;5;124mRGB\u001b[39m\u001b[38;5;124m\"\u001b[39m)\n\u001b[1;32m     13\u001b[0m     \u001b[38;5;66;03m# Save the image with reduced quality\u001b[39;00m\n",
      "File \u001b[0;32m/Library/anaconda3/lib/python3.11/site-packages/PIL/Image.py:3247\u001b[0m, in \u001b[0;36mopen\u001b[0;34m(fp, mode, formats)\u001b[0m\n\u001b[1;32m   3244\u001b[0m     filename \u001b[38;5;241m=\u001b[39m fp\n\u001b[1;32m   3246\u001b[0m \u001b[38;5;28;01mif\u001b[39;00m filename:\n\u001b[0;32m-> 3247\u001b[0m     fp \u001b[38;5;241m=\u001b[39m builtins\u001b[38;5;241m.\u001b[39mopen(filename, \u001b[38;5;124m\"\u001b[39m\u001b[38;5;124mrb\u001b[39m\u001b[38;5;124m\"\u001b[39m)\n\u001b[1;32m   3248\u001b[0m     exclusive_fp \u001b[38;5;241m=\u001b[39m \u001b[38;5;28;01mTrue\u001b[39;00m\n\u001b[1;32m   3250\u001b[0m \u001b[38;5;28;01mtry\u001b[39;00m:\n",
      "\u001b[0;31mFileNotFoundError\u001b[0m: [Errno 2] No such file or directory: 'image-snow.jpg'"
     ]
    }
   ],
   "source": [
    "\n",
    "def compress_jpg(input_path, output_path, quality=20):\n",
    "    \"\"\"\n",
    "    Compress a JPG image by reducing its quality.\n",
    "\n",
    "    :param input_path: Path to the input image file.\n",
    "    :param output_path: Path to save the compressed image.\n",
    "    :param quality: Quality level for the compressed image (1 to 100).\n",
    "    \"\"\"\n",
    "    # Open an image file\n",
    "    with Image.open(input_path) as img:\n",
    "        # Ensure the image is in RGB mode\n",
    "        img = img.convert(\"RGB\")\n",
    "        # Save the image with reduced quality\n",
    "        img.save(output_path, \"JPEG\", quality=quality)\n",
    "\n",
    "# Example usage\n",
    "input_image_path = 'img.jpg'\n",
    "output_image_path = 'compressed.jpg'\n",
    "\n",
    "# Compress the image with quality level set to 20\n",
    "compress_jpg(input_image_path, output_image_path, quality=20)"
   ]
  },
  {
   "cell_type": "code",
   "execution_count": null,
   "id": "2dde1dc9-d80e-48dd-b390-a6cacc8ede60",
   "metadata": {},
   "outputs": [],
   "source": []
  }
 ],
 "metadata": {
  "kernelspec": {
   "display_name": "Python 3 (ipykernel)",
   "language": "python",
   "name": "python3"
  },
  "language_info": {
   "codemirror_mode": {
    "name": "ipython",
    "version": 3
   },
   "file_extension": ".py",
   "mimetype": "text/x-python",
   "name": "python",
   "nbconvert_exporter": "python",
   "pygments_lexer": "ipython3",
   "version": "3.11.7"
  }
 },
 "nbformat": 4,
 "nbformat_minor": 5
}
