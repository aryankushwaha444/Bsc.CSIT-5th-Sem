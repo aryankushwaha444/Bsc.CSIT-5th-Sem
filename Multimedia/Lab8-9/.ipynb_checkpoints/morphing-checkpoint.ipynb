{
 "cells": [
  {
   "cell_type": "code",
   "execution_count": 7,
   "id": "ddbd3a5b-9b00-4d56-8c7a-390c7cba1dee",
   "metadata": {},
   "outputs": [
    {
     "ename": "TypeError",
     "evalue": "morph_images() missing 2 required positional arguments: 'image2_path' and 'alpha'",
     "output_type": "error",
     "traceback": [
      "\u001b[0;31m---------------------------------------------------------------------------\u001b[0m",
      "\u001b[0;31mTypeError\u001b[0m                                 Traceback (most recent call last)",
      "Cell \u001b[0;32mIn[7], line 39\u001b[0m\n\u001b[1;32m     36\u001b[0m alpha \u001b[38;5;241m=\u001b[39m \u001b[38;5;241m0.5\u001b[39m\n\u001b[1;32m     38\u001b[0m \u001b[38;5;66;03m# Morph the images\u001b[39;00m\n\u001b[0;32m---> 39\u001b[0m morphed_image \u001b[38;5;241m=\u001b[39m morph_images(alpha)\n\u001b[1;32m     41\u001b[0m \u001b[38;5;66;03m# Save the morphed image\u001b[39;00m\n\u001b[1;32m     42\u001b[0m cv2\u001b[38;5;241m.\u001b[39mimwrite(output_image_path, morphed_image)\n",
      "\u001b[0;31mTypeError\u001b[0m: morph_images() missing 2 required positional arguments: 'image2_path' and 'alpha'"
     ]
    }
   ],
   "source": [
    "import cv2\n",
    "import numpy as np\n",
    "\n",
    "def resize_images_to_match(img1, img2):\n",
    "    \"\"\"\n",
    "    Resize the second image to match the dimensions of the first image.\n",
    "    \"\"\"\n",
    "    return cv2.resize(img2, (img1.shape[1], img1.shape[0]))\n",
    "\n",
    "def morph_images(image1_path, image2_path, alpha):\n",
    "    \"\"\"\n",
    "    Morph two images together using a linear blend.\n",
    "\n",
    "    :param image1_path: Path to the first image.\n",
    "    :param image2_path: Path to the second image.\n",
    "    :param alpha: Blending factor (0.0 to 1.0).\n",
    "    :return: Morphed image.\n",
    "    \"\"\"\n",
    "    # Read the two images\n",
    "    img1 = cv2.imread(image1_path)\n",
    "    img2 = cv2.imread(image2_path)\n",
    "\n",
    "    # Resize the second image to match the dimensions of the first image\n",
    "    img2 = resize_images_to_match(img1, img2)\n",
    "\n",
    "    # Perform linear blending\n",
    "    morphed_image = cv2.addWeighted(img1, alpha, img2, 1 - alpha, 0)\n",
    "\n",
    "    return morphed_image\n",
    "    # Example usage\n",
    "image1_path = 'img1.jpg'\n",
    "image2_path = 'img2.jpg'\n",
    "output_image_path = 'morphed_image.jpg'\n",
    "\n",
    "# Alpha value for blending (0.0 means only the first image, 1.0 means only the second image)\n",
    "alpha = 0.5\n",
    "\n",
    "# Morph the images\n",
    "morphed_image = morph_images(image1_path, image2_path, alpha)\n",
    "\n",
    "# Save the morphed image\n",
    "cv2.imwrite(output_image_path, morphed_image)"
   ]
  },
  {
   "cell_type": "code",
   "execution_count": null,
   "id": "511b329e-d730-415f-91b8-ce2d4cd213b9",
   "metadata": {},
   "outputs": [],
   "source": []
  }
 ],
 "metadata": {
  "kernelspec": {
   "display_name": "Python 3 (ipykernel)",
   "language": "python",
   "name": "python3"
  },
  "language_info": {
   "codemirror_mode": {
    "name": "ipython",
    "version": 3
   },
   "file_extension": ".py",
   "mimetype": "text/x-python",
   "name": "python",
   "nbconvert_exporter": "python",
   "pygments_lexer": "ipython3",
   "version": "3.11.7"
  }
 },
 "nbformat": 4,
 "nbformat_minor": 5
}
