{
 "cells": [
  {
   "cell_type": "code",
   "execution_count": 3,
   "id": "c3927eba-194f-452c-9d00-f83f8f3cdd19",
   "metadata": {},
   "outputs": [],
   "source": [
    "from PIL import Image"
   ]
  },
  {
   "cell_type": "code",
   "execution_count": 13,
   "id": "1c2605c0-a427-425d-9f4a-411d6e8b153c",
   "metadata": {},
   "outputs": [],
   "source": [
    "\n",
    "def compress_jpg(input_path, output_path, quality=80):\n",
    "    \"\"\"\n",
    "    Compress a JPG image by reducing its quality.\n",
    "\n",
    "    :param input_path: Path to the input image file.\n",
    "    :param output_path: Path to save the compressed image.\n",
    "    :param quality: Quality level for the compressed image (1 to 100).\n",
    "    \"\"\"\n",
    "    # Open an image file\n",
    "    with Image.open(input_path) as img:\n",
    "        # Ensure the image is in RGB mode\n",
    "        img = img.convert(\"RGB\")\n",
    "        # Save the image with reduced quality\n",
    "        img.save(output_path, \"JPEG\", quality=quality)\n",
    "\n",
    "# Example usage\n",
    "input_image_path = 'img.jpg'\n",
    "output_image_path = 'compressed80.jpg'\n",
    "\n",
    "# Compress the image with quality level set to 20\n",
    "compress_jpg(input_image_path, output_image_path, quality=80)"
   ]
  },
  {
   "cell_type": "code",
   "execution_count": null,
   "id": "2dde1dc9-d80e-48dd-b390-a6cacc8ede60",
   "metadata": {},
   "outputs": [],
   "source": []
  }
 ],
 "metadata": {
  "kernelspec": {
   "display_name": "Python 3 (ipykernel)",
   "language": "python",
   "name": "python3"
  },
  "language_info": {
   "codemirror_mode": {
    "name": "ipython",
    "version": 3
   },
   "file_extension": ".py",
   "mimetype": "text/x-python",
   "name": "python",
   "nbconvert_exporter": "python",
   "pygments_lexer": "ipython3",
   "version": "3.11.7"
  }
 },
 "nbformat": 4,
 "nbformat_minor": 5
}
