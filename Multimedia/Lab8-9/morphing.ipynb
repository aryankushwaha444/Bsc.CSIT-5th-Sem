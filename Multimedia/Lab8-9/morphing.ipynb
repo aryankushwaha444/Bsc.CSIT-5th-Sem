{
 "cells": [
  {
   "cell_type": "code",
   "execution_count": 2,
   "id": "ddbd3a5b-9b00-4d56-8c7a-390c7cba1dee",
   "metadata": {},
   "outputs": [
    {
     "data": {
      "text/plain": [
       "True"
      ]
     },
     "execution_count": 2,
     "metadata": {},
     "output_type": "execute_result"
    }
   ],
   "source": [
    "import cv2\n",
    "import numpy as np\n",
    "\n",
    "def resize_images_to_match(img1, img2):\n",
    "    \"\"\"\n",
    "    Resize the second image to match the dimensions of the first image.\n",
    "    \"\"\"\n",
    "    return cv2.resize(img2, (img1.shape[1], img1.shape[0]))\n",
    "\n",
    "def morph_images(image1_path, image2_path, alpha):\n",
    "    \"\"\"\n",
    "    Morph two images together using a linear blend.\n",
    "\n",
    "    :param image1_path: Path to the first image.\n",
    "    :param image2_path: Path to the second image.\n",
    "    :param alpha: Blending factor (0.0 to 1.0).\n",
    "    :return: Morphed image.\n",
    "    \"\"\"\n",
    "    # Read the two images\n",
    "    img1 = cv2.imread(image1_path)\n",
    "    img2 = cv2.imread(image2_path)\n",
    "\n",
    "    # Resize the second image to match the dimensions of the first image\n",
    "    img2 = resize_images_to_match(img1, img2)\n",
    "\n",
    "    # Perform linear blending\n",
    "    morphed_image = cv2.addWeighted(img1, alpha, img2, 1 - alpha, 0)\n",
    "\n",
    "    return morphed_image\n",
    "    # Example usage\n",
    "image1_path = 'img1.jpg'\n",
    "image2_path = 'img2.jpg'\n",
    "output_image_path = 'morphed_image8.jpg'\n",
    "\n",
    "# Alpha value for blending (0.0 means only the first image, 1.0 means only the second image)\n",
    "alpha = 0.8\n",
    "\n",
    "# Morph the images\n",
    "morphed_image = morph_images(image1_path, image2_path, alpha)\n",
    "\n",
    "# Save the morphed image\n",
    "cv2.imwrite(output_image_path, morphed_image)"
   ]
  },
  {
   "cell_type": "code",
   "execution_count": null,
   "id": "511b329e-d730-415f-91b8-ce2d4cd213b9",
   "metadata": {},
   "outputs": [],
   "source": []
  }
 ],
 "metadata": {
  "kernelspec": {
   "display_name": "Python 3 (ipykernel)",
   "language": "python",
   "name": "python3"
  },
  "language_info": {
   "codemirror_mode": {
    "name": "ipython",
    "version": 3
   },
   "file_extension": ".py",
   "mimetype": "text/x-python",
   "name": "python",
   "nbconvert_exporter": "python",
   "pygments_lexer": "ipython3",
   "version": "3.11.7"
  }
 },
 "nbformat": 4,
 "nbformat_minor": 5
}
